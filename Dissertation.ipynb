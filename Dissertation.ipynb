{
 "cells": [
  {
   "cell_type": "code",
   "execution_count": 14,
   "metadata": {},
   "outputs": [],
   "source": [
    "import numpy as np\n",
    "from numpy.testing import assert_almost_equal\n",
    "import pandas as pd\n",
    "from matplotlib import pyplot as plt\n"
   ]
  },
  {
   "cell_type": "code",
   "execution_count": 45,
   "metadata": {},
   "outputs": [],
   "source": [
    "### Helper functions\n",
    "\n",
    "def is_square(m):\n",
    "    assert m.shape[0] == m.shape[1]\n",
    "\n",
    "def covariance_correct(m, n_steps):\n",
    "    assert m.shape[0] == n_steps\n",
    "\n",
    "\n",
    "def covariance_calc(n_steps, T, H, k):\n",
    "    #Calculation derived in dissertation. Absolute needed only for case where k = 0\n",
    "    \n",
    "    return 1/2 * ((T/n_steps) ** H)\\\n",
    "        * (abs(k - 1) ** (2 * H)\\\n",
    "         + (k + 1) ** (2 * H)\\\n",
    "         - 2 * (k ** (2 * H)))\n",
    "\n",
    "def construct_covariance_matrix(n_steps, T, H):\n",
    "    m = np.zeros([n_steps , n_steps])\n",
    "    k = np.arange(0, n_steps, 1)\n",
    "    m[:, 0] = covariance_calc(n_steps, T, H, k)\n",
    "\n",
    "    for i in range(1, n_steps):\n",
    "        m[i:, i] = m[i-1:-1, i-1]\n",
    "    \n",
    "    m = np.tril(m) + np.triu(m.T, 1)\n",
    "\n",
    "    return m\n",
    "\n",
    "def simulate_fbmn_sims, n_steps, mu, Sigma):\n",
    "    is_square(Sigma)\n",
    "    covariance_correct(Sigma, n_steps)\n"
   ]
  },
  {
   "cell_type": "code",
   "execution_count": 53,
   "metadata": {},
   "outputs": [
    {
     "data": {
      "text/plain": [
       "array([[ 7.07106781e-01, -3.28177640e-01, -9.69576016e-03, ...,\n",
       "        -6.10307627e-08, -6.09173503e-08, -6.08042594e-08],\n",
       "       [-3.28177640e-01,  7.07106781e-01, -3.28177640e-01, ...,\n",
       "        -6.11444976e-08, -6.10307627e-08, -6.09173503e-08],\n",
       "       [-9.69576016e-03, -3.28177640e-01,  7.07106781e-01, ...,\n",
       "        -6.12585565e-08, -6.11444976e-08, -6.10307627e-08],\n",
       "       ...,\n",
       "       [-6.10307627e-08, -6.11444976e-08, -6.12585565e-08, ...,\n",
       "         7.07106781e-01, -3.28177640e-01, -9.69576016e-03],\n",
       "       [-6.09173503e-08, -6.10307627e-08, -6.11444976e-08, ...,\n",
       "        -3.28177640e-01,  7.07106781e-01, -3.28177640e-01],\n",
       "       [-6.08042594e-08, -6.09173503e-08, -6.10307627e-08, ...,\n",
       "        -9.69576016e-03, -3.28177640e-01,  7.07106781e-01]])"
      ]
     },
     "execution_count": 53,
     "metadata": {},
     "output_type": "execute_result"
    }
   ],
   "source": [
    "construct_covariance_matrix(1024, 1, 0.05)"
   ]
  },
  {
   "cell_type": "code",
   "execution_count": 41,
   "metadata": {},
   "outputs": [
    {
     "ename": "IndexError",
     "evalue": "index 10 is out of bounds for axis 1 with size 10",
     "output_type": "error",
     "traceback": [
      "\u001b[0;31m---------------------------------------------------------------------------\u001b[0m",
      "\u001b[0;31mIndexError\u001b[0m                                Traceback (most recent call last)",
      "Cell \u001b[0;32mIn[41], line 2\u001b[0m\n\u001b[1;32m      1\u001b[0m m \u001b[38;5;241m=\u001b[39m np\u001b[38;5;241m.\u001b[39mzeros([\u001b[38;5;241m10\u001b[39m , \u001b[38;5;241m10\u001b[39m])\n\u001b[0;32m----> 2\u001b[0m \u001b[38;5;28mprint\u001b[39m(m[\u001b[38;5;241m10\u001b[39m:, \u001b[38;5;241m10\u001b[39m])\n",
      "\u001b[0;31mIndexError\u001b[0m: index 10 is out of bounds for axis 1 with size 10"
     ]
    }
   ],
   "source": [
    "m = np.zeros([10 , 10])\n",
    "print(m[10:, 10])"
   ]
  },
  {
   "cell_type": "code",
   "execution_count": 51,
   "metadata": {},
   "outputs": [
    {
     "data": {
      "text/plain": [
       "-0.015444159555729087"
      ]
     },
     "execution_count": 51,
     "metadata": {},
     "output_type": "execute_result"
    }
   ],
   "source": [
    "4 ** 0.1 + 6 ** 0.1 - 2 * 5 ** 0.1"
   ]
  },
  {
   "cell_type": "code",
   "execution_count": null,
   "metadata": {},
   "outputs": [],
   "source": []
  }
 ],
 "metadata": {
  "kernelspec": {
   "display_name": "Random_Stuff",
   "language": "python",
   "name": "python3"
  },
  "language_info": {
   "codemirror_mode": {
    "name": "ipython",
    "version": 3
   },
   "file_extension": ".py",
   "mimetype": "text/x-python",
   "name": "python",
   "nbconvert_exporter": "python",
   "pygments_lexer": "ipython3",
   "version": "3.11.5"
  }
 },
 "nbformat": 4,
 "nbformat_minor": 2
}
