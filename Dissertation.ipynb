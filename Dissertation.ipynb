{
 "cells": [
  {
   "cell_type": "markdown",
   "metadata": {},
   "source": [
    "# 0. Setup"
   ]
  },
  {
   "cell_type": "code",
   "execution_count": 2,
   "metadata": {},
   "outputs": [],
   "source": [
    "import numpy as np\n",
    "from numpy.testing import assert_almost_equal\n",
    "import pandas as pd\n",
    "from matplotlib import pyplot as plt\n",
    "\n",
    "from scipy.optimize import minimize, brentq\n",
    "\n",
    "from scipy.stats import norm\n",
    "\n",
    "import warnings\n",
    "warnings.filterwarnings('ignore')\n",
    "\n"
   ]
  },
  {
   "cell_type": "markdown",
   "metadata": {},
   "source": [
    "## 0.1 Helper Functions"
   ]
  },
  {
   "cell_type": "code",
   "execution_count": 3,
   "metadata": {},
   "outputs": [],
   "source": [
    "### Covariance\n",
    "\n",
    "def covariance_calc(H, k):\n",
    "    #Calculation derived in dissertation.\n",
    "    \n",
    "    return 0.5\\\n",
    "        * (np.abs(k - 1) ** (2 * H)\\\n",
    "         + np.abs(k + 1) ** (2 * H)\\\n",
    "         - 2 * (np.abs(k) ** (2 * H)))\n",
    "\n",
    "#Test basic functionality. Numbers calculated by hand\n",
    "assert_almost_equal(covariance_calc(0.5, 1), 0)\n",
    "assert_almost_equal(covariance_calc(0.25, 1), -0.2928932)\n",
    "assert_almost_equal(covariance_calc(0.25, -1), -0.2928932)\n",
    "assert_almost_equal(covariance_calc(0.75, 4), 0.1882461)\n",
    "\n",
    "def get_covariance_matrix(n_steps, H):\n",
    "    #Return an unscaled covariance matrix\n",
    "    m = np.zeros([n_steps , n_steps])\n",
    "    k = np.arange(0, n_steps, 1)\n",
    "\n",
    "    #Calculate one column, then use this to populate rest of lower triangle of matrix\n",
    "    m[:, 0] = covariance_calc(H, k)\n",
    "\n",
    "    for i in range(1, n_steps):\n",
    "        m[i:, i] = m[i-1:-1, i-1]\n",
    "    \n",
    "    m = np.tril(m) + np.triu(m.T, 1)\n",
    "    return m\n",
    "\n",
    "#Test matrix build right. Numbers calculated by hand. \n",
    "assert_almost_equal(get_covariance_matrix(3, 0.25), np.array([[1, -0.2928932, -0.0481881], [-0.2928932, 1, -0.2928932], [-0.0481881, -0.2928932, 1]]))\n"
   ]
  },
  {
   "cell_type": "code",
   "execution_count": 4,
   "metadata": {},
   "outputs": [],
   "source": [
    "#Data Manipulation\n",
    "\n",
    "#This function needed because not all Brownian motion files start with 0, and they should for consistency\n",
    "def add_zero(path):\n",
    "    if path[0,] != 0:\n",
    "        path = np.insert(path, 0, 0)\n",
    "    return path\n",
    "    \n",
    "test1 = np.array([1, 2, 3])\n",
    "test2 = np.array([0, -1, -2, -3])\n",
    "assert_almost_equal(np.array([0, 1, 2, 3]), add_zero(test1))\n",
    "assert_almost_equal(test2, add_zero(test2))\n",
    "\n",
    "def get_diffs(path):\n",
    "    # Get the differences of a path i.e. the individual increments\n",
    "    return path[1:] - path[:-1]\n",
    "\n",
    "assert_almost_equal(get_diffs(np.array([1, 1, 1, 1, 1])), np.array([0, 0, 0, 0]))\n",
    "assert_almost_equal(get_diffs(np.array([1, 2, 3, 4, 5])), np.array([1, 1, 1, 1]))\n",
    "\n",
    "#Get spot variances in spanned sets of a path\n",
    "def estimate_spot_variance(S_path, span):\n",
    "    #Implicitly assuming we are looking at a range[0, 1]\n",
    "    #Check can divide range into equal sub-sections\n",
    "    #Assume path starts with 0 at time 0\n",
    "\n",
    "    n_steps = S_path.shape[0] - 1\n",
    "    assert_almost_equal(n_steps % span, 0)\n",
    "    n_windows = n_steps / span\n",
    "    delta_t = 1 / n_windows\n",
    "\n",
    "    log_returns = np.log(S_path[1:]/S_path[:-1])\n",
    "    spanned_returns = np.split(log_returns, n_windows)\n",
    "\n",
    "    spot_variances = np.zeros(int(n_windows))\n",
    "\n",
    "    for i, v in enumerate(spanned_returns):\n",
    "        spot_variances[i] = np.dot(v, v) \n",
    "\n",
    "    return spot_variances\n",
    "\n",
    "test_path = np.arange(1, 22)\n",
    "assert_almost_equal(estimate_spot_variance(test_path, 10), np.array([0.8863009, 0.0432722]))\n",
    "# assert_almost_equal(estimate_spot_variance(test_path, 5), np.array([0.202662534, 0.018912694, 0.007098761, 0.003719294\n",
    "#]))\n",
    "\n",
    "\n",
    "\n"
   ]
  },
  {
   "cell_type": "code",
   "execution_count": 5,
   "metadata": {},
   "outputs": [],
   "source": [
    "## Black-Scholes\n",
    "\n",
    "def get_d1_and_d2(S, t, K, T, r, sigma):\n",
    "    tau = T - t\n",
    "    d1 = 1/(sigma * np.sqrt(tau)) * (np.log(S/K) + (r + sigma ** 2 / 2) * tau)    \n",
    "    d2 = d1 - sigma * np.sqrt(tau)\n",
    "    return d1, d2\n",
    "\n",
    "def get_IV_from_price(S, t, K, T, r, market_price):\n",
    "\n",
    "    def black_scholes_call_price(sigma):\n",
    "        d1, d2 = get_d1_and_d2(S, t, K, T, r, sigma)\n",
    "        call_price = (S * norm.cdf(d1) - K * np.exp(-r * (T- t)) * norm.cdf(d2))\n",
    "        return call_price - market_price\n",
    "\n",
    "    return brentq(black_scholes_call_price, 1e-10, 100, maxiter = 500)\n",
    "\n",
    "assert_almost_equal(get_IV_from_price(100, 0, 100, 1, 0, 7.96558 ), 0.2, decimal = 5)\n",
    "assert_almost_equal(get_IV_from_price(100, 0, 90, 1, 0, 34.77223 ), 0.8, decimal = 5)\n",
    "\n",
    "\n",
    "\n"
   ]
  },
  {
   "cell_type": "code",
   "execution_count": 86,
   "metadata": {},
   "outputs": [],
   "source": [
    "## Simulation\n",
    "\n",
    "def simulate_bm_fbm(n_sims, n_steps, T, H, rng = None):\n",
    "    #returns B and BH paths; both needed for simulation later\n",
    "\n",
    "    if rng is None:\n",
    "        rng = np.random.default_rng(seed = 42)\n",
    "    \n",
    "    variates = rng.normal(loc = 0, scale = 1, size = (n_sims, n_steps))\n",
    "\n",
    "    B_path = np.zeros([n_sims, n_steps + 1])\n",
    "    BH_path = np.zeros([n_sims, n_steps + 1])\n",
    "\n",
    "    delta = (T / n_steps)\n",
    "\n",
    "    for i in range(0, n_steps):\n",
    "        B_path[:, i + 1] = B_path[:, i] + delta ** 0.5 * variates[:, i]\n",
    "\n",
    "    if H != 0.5:\n",
    "        print('Beginning Simulation')\n",
    "        cov_mat = get_covariance_matrix(n_steps, H)\n",
    "        L = np.linalg.cholesky(cov_mat)\n",
    "        print('Covariance Done')\n",
    "        corr_variates = (L @ variates.T).T\n",
    "    \n",
    "        for i in range(0, n_steps):\n",
    "            BH_path[:, i + 1] = BH_path[:, i] + corr_variates[:, i] * delta ** H\n",
    "    else:\n",
    "        BH_path = B_path\n",
    "\n",
    "    return B_path, BH_path\n"
   ]
  },
  {
   "cell_type": "code",
   "execution_count": 87,
   "metadata": {},
   "outputs": [
    {
     "name": "stdout",
     "output_type": "stream",
     "text": [
      "Beginning Simulation\n",
      "Covariance Done\n",
      "Beginning Simulation\n",
      "Covariance Done\n"
     ]
    },
    {
     "data": {
      "text/plain": [
       "[<matplotlib.lines.Line2D at 0x2e181601c60>]"
      ]
     },
     "execution_count": 87,
     "metadata": {},
     "output_type": "execute_result"
    },
    {
     "data": {
      "image/png": "[encoded data removed]",
      "text/plain": [
       "<Figure size 432x288 with 1 Axes>"
      ]
     },
     "metadata": {
      "needs_background": "light"
     },
     "output_type": "display_data"
    }
   ],
   "source": [
    "n_steps = 1024\n",
    "T = 1\n",
    "\n",
    "span = np.linspace(0, T, n_steps + 1)\n",
    "\n",
    "out = simulate_bm_fbm(1, n_steps, T, 0.05)[1]\n",
    "plt.plot(span, out.T)\n",
    "\n",
    "out = simulate_bm_fbm(1, n_steps, T, 0.5)[1]\n",
    "plt.plot(span, out.T)\n",
    "\n",
    "out = simulate_bm_fbm(1, n_steps, T, 0.95)[1]\n",
    "plt.plot(span, out.T)"
   ]
  },
  {
   "cell_type": "code",
   "execution_count": 8,
   "metadata": {},
   "outputs": [],
   "source": [
    "def H_estimator(x, T):\n",
    "    #return estimator of H from dissertation. Assume q = 2. \n",
    "    q = 2\n",
    "\n",
    "    if x[0,] != 0:\n",
    "        x = np.insert(x, 0, 0)\n",
    "    diffs = np.abs(x[1:] - x[:-1])\n",
    "    n_steps = diffs.shape[0]\n",
    "\n",
    "    return np.log(1/n_steps * np.sum(diffs ** q)) / (q * np.log(T / n_steps))\n"
   ]
  },
  {
   "cell_type": "code",
   "execution_count": 9,
   "metadata": {},
   "outputs": [
    {
     "name": "stdout",
     "output_type": "stream",
     "text": [
      "Beginning Simulation\n",
      "Covariance Done\n",
      "Beginning Simulation\n",
      "Covariance Done\n",
      "Beginning Simulation\n",
      "Covariance Done\n",
      "Beginning Simulation\n",
      "Covariance Done\n",
      "Beginning Simulation\n",
      "Covariance Done\n",
      "Beginning Simulation\n",
      "Covariance Done\n",
      "Beginning Simulation\n",
      "Covariance Done\n",
      "Beginning Simulation\n",
      "Covariance Done\n",
      "Beginning Simulation\n",
      "Covariance Done\n",
      "Beginning Simulation\n",
      "Covariance Done\n",
      "Beginning Simulation\n",
      "Covariance Done\n"
     ]
    },
    {
     "data": {
      "text/plain": [
       "array([0.07607077, 0.11104445, 0.02869321, 0.05292693, 0.06495406,\n",
       "       0.06348754, 0.05789868, 0.05276676, 0.04887706, 0.05218054,\n",
       "       0.05046109])"
      ]
     },
     "execution_count": 9,
     "metadata": {},
     "output_type": "execute_result"
    }
   ],
   "source": [
    "exponents = np.arange(3, 15, 1)\n",
    "H_estimators = np.zeros(len(exponents) - 1)\n",
    "\n",
    "for i in range(len(exponents) - 1):\n",
    "    out = simulate_bm_fbm(1, int(2 ** (i + 3)), T, 0.05)[1]\n",
    "    H_estimators[i] = H_estimator(out[0], 1)\n",
    "\n",
    "H_estimators"
   ]
  },
  {
   "cell_type": "markdown",
   "metadata": {},
   "source": [
    "# 1. MLE"
   ]
  },
  {
   "cell_type": "code",
   "execution_count": 10,
   "metadata": {},
   "outputs": [],
   "source": [
    "\n",
    "def obj(H, x, T, scalar = None):\n",
    "    n_steps = x.shape[0]\n",
    "    R = get_covariance_matrix(n_steps, H)\n",
    "\n",
    "    if scalar is None: \n",
    "       scalar = (T / n_steps) ** (2 * H)\n",
    "\n",
    "    determinant = np.linalg.det(R)\n",
    "    R_inv = np.linalg.inv(R) / scalar\n",
    "\n",
    "    return np.log(determinant) + n_steps * np.log(scalar) + n_steps * np.log(1 / n_steps * np.dot(x.T, np.dot(R_inv, x))) \n",
    "\n",
    "def max_MLE(x, T, scalar = None):\n",
    "\n",
    "    #Add x_0 value if it is missing\n",
    "    if x[0,] != 0:\n",
    "        x = np.insert(x, 0, 0)\n",
    "\n",
    "    diffs = x[1:] - x[:-1]\n",
    "    n_steps = diffs.shape[0]\n",
    "\n",
    "    #initial_guess = H_estimator(x, T)\n",
    "    initial_guess = 0.5\n",
    "\n",
    "    #Convergence issues noticed around H = 0.95, setting a bound of 0.94\n",
    "    #Set lower bound of floating epsilon to stop H hitting exactly 0, which will cause LLF errors\n",
    "    H = minimize(obj, initial_guess, args = (diffs, T, scalar), bounds = [(np.finfo(float).eps, 0.94)], method = \"Powell\", tol = 1e-10)\n",
    "\n",
    "    if H.success:\n",
    "        H_hat = H.x[0]\n",
    "        R = get_covariance_matrix(n_steps, H_hat)\n",
    "        if scalar is None:\n",
    "            scalar = (T / n_steps) ** (2 * H_hat)\n",
    "            R_inv = np.linalg.inv(R) / scalar\n",
    "            sigma_hat = np.sqrt(1 / n_steps * np.dot(diffs.T, np.dot(R_inv, diffs)))\n",
    "        else:\n",
    "            sigma_hat = scalar\n",
    "        return H_hat, sigma_hat\n",
    "\n",
    "    return H.success"
   ]
  },
  {
   "cell_type": "code",
   "execution_count": 11,
   "metadata": {},
   "outputs": [
    {
     "name": "stdout",
     "output_type": "stream",
     "text": [
      "Beginning Simulation\n",
      "Covariance Done\n",
      "Beginning Simulation\n",
      "Covariance Done\n",
      "Beginning Simulation\n",
      "Covariance Done\n",
      "Beginning Simulation\n",
      "Covariance Done\n",
      "Beginning Simulation\n",
      "Covariance Done\n",
      "Beginning Simulation\n",
      "Covariance Done\n"
     ]
    }
   ],
   "source": [
    "# Check this code works for a selection of cases\n",
    "\n",
    "test_vals = np.arange(0.05, 0.15, 0.05)\n",
    "test_scalars = np.arange(0.5, 2, 0.5)\n",
    "val_errors = np.zeros((test_vals.shape[0], test_scalars.shape[0]))\n",
    "scalar_errors = np.zeros((test_vals.shape[0], test_scalars.shape[0]))\n",
    "for i, i_val in enumerate(test_vals):\n",
    "    for j, j_val in enumerate(test_scalars):\n",
    "        test_sim = simulate_bm_fbm(1, 1024, 1, i_val)[0]\n",
    "        test_sim = test_sim[0, :].T * j_val\n",
    "        test_H = max_MLE(test_sim, 1)\n",
    "        val_errors[i, j] = test_H[0] - i_val\n",
    "        scalar_errors[i, j] = test_H[1] - j_val\n",
    "    "
   ]
  },
  {
   "cell_type": "code",
   "execution_count": 12,
   "metadata": {},
   "outputs": [
    {
     "data": {
      "text/plain": [
       "array([[0.45497959, 0.45497965, 0.45497974],\n",
       "       [0.40497959, 0.40497965, 0.40497974]])"
      ]
     },
     "execution_count": 12,
     "metadata": {},
     "output_type": "execute_result"
    }
   ],
   "source": [
    "val_errors"
   ]
  },
  {
   "cell_type": "code",
   "execution_count": 13,
   "metadata": {},
   "outputs": [
    {
     "data": {
      "text/plain": [
       "array([[0.00553437, 0.01106915, 0.01660472],\n",
       "       [0.00553437, 0.01106915, 0.01660472]])"
      ]
     },
     "execution_count": 13,
     "metadata": {},
     "output_type": "execute_result"
    }
   ],
   "source": [
    "scalar_errors"
   ]
  },
  {
   "cell_type": "code",
   "execution_count": 14,
   "metadata": {},
   "outputs": [
    {
     "data": {
      "text/plain": [
       "(0.035675424351465715, 1.1596978410643553)"
      ]
     },
     "execution_count": 14,
     "metadata": {},
     "output_type": "execute_result"
    }
   ],
   "source": [
    "# sample_fbm = np.loadtxt('/Users/james.male/Dissertation/fBMPath2.txt')\n",
    "sample_fbm = np.loadtxt('C:\\\\Users\\\\jamma\\Masters\\\\Dissertation\\\\fBMPath2.txt')\n",
    "res = max_MLE(sample_fbm, 1)\n",
    "res\n"
   ]
  },
  {
   "cell_type": "markdown",
   "metadata": {},
   "source": [
    "# 2. Simulation"
   ]
  },
  {
   "cell_type": "markdown",
   "metadata": {},
   "source": [
    "## 2.1 With given Paths"
   ]
  },
  {
   "cell_type": "code",
   "execution_count": 48,
   "metadata": {},
   "outputs": [],
   "source": [
    "class RFSV_model:\n",
    "    def __init__(self, V0, S0, V, rho, H, T, B_path, BH_path, W_path, window_length):\n",
    "        #inputs\n",
    "        self.V0 = V0\n",
    "        self.S0 = S0\n",
    "        self.V = V\n",
    "        self.rho = rho\n",
    "        self.rho_bar = np.sqrt(1 - rho ** 2)\n",
    "        self.window_length = window_length\n",
    "        self.H = H\n",
    "        self.T = T\n",
    "\n",
    "        #Derived\n",
    "        self.B_path = B_path\n",
    "        self.BH_path = BH_path\n",
    "        self.W_path = W_path\n",
    "        \n",
    "        self.n_steps = self.B_path.shape[0] - 1\n",
    "        self.delta = self.T * self.window_length / self.n_steps\n",
    "\n",
    "\n",
    "    def run_H_estimation(self):\n",
    "        self.simulate_RFSV()\n",
    "        self.variance_estimation()\n",
    "        return self.est_H, self.MLE_H, self.realised_H #, self.realised_MLE_H\n",
    "    \n",
    "    def simulate_RFSV(self):\n",
    "        \n",
    "        B_diffs = get_diffs(self.B_path)\n",
    "        W_diffs = get_diffs(self.W_path)\n",
    "\n",
    "        S_path = np.zeros(self.n_steps + 1)\n",
    "        V_path = np.zeros(self.n_steps + 1)\n",
    "\n",
    "        V_path = self.V0 * np.exp(self.V * self.BH_path)\n",
    "        S_path[0] = self.S0\n",
    "        \n",
    "        for i in range(self.n_steps):\n",
    "            S_path[i + 1] = S_path[i] *\\\n",
    "                (1 + np.sqrt(V_path[i]) *\\\n",
    "                (self.rho * B_diffs[i] + self.rho_bar * W_diffs[i]))\n",
    "        \n",
    "        self.V_path = V_path\n",
    "        self.S_path = S_path\n",
    "\n",
    "    def variance_estimation(self):\n",
    "        est_V = estimate_spot_variance(self.S_path, self.window_length)\n",
    "\n",
    "        V0_estimate = np.exp(np.mean(np.log(est_V)))\n",
    "        log_est_V = add_zero(np.log(est_V / V0_estimate))\n",
    "\n",
    "        #This gives us a variance process up to time 1 - delta\n",
    "        self.est_H = H_estimator(log_est_V, 1)\n",
    "\n",
    "        self.realised_H = H_estimator(np.log(self.V_path / self.V0), 1)\n",
    "        #self.realised_MLE_H = max_MLE(np.log(self.V_path / self.V0), 1)\n",
    "\n",
    "        self.MLE_H = max_MLE(log_est_V, 1, scalar = 1)[0]"
   ]
  },
  {
   "cell_type": "code",
   "execution_count": 47,
   "metadata": {},
   "outputs": [
    {
     "name": "stdout",
     "output_type": "stream",
     "text": [
      "0.06068738043960221 0.03580482100259653 0.05058175194263949\n",
      "0.10767166651786558 0.05810335153941429 0.05058175194263949\n",
      "0.1945141473667977 0.1364141949969215 0.05058175194263949\n"
     ]
    }
   ],
   "source": [
    "B_path_loc_05 = 'C:\\\\Users\\\\jamma\\\\Masters\\\\Dissertation\\\\Bpath.05.txt'\n",
    "BH_path_loc_05 = 'C:\\\\Users\\\\jamma\\\\Masters\\\\Dissertation\\\\BHpath.05.txt'\n",
    "W_path_loc_05 = 'C:\\\\Users\\\\jamma\\\\Masters\\\\Dissertation\\\\Wpath.05.txt'\n",
    "\n",
    "# B_path_loc_05 = '/Users/james.male/Dissertation/Bpath.05.txt'\n",
    "# BH_path_loc_05 = '/Users/james.male/Dissertation/BHpath.05.txt'\n",
    "# W_path_loc_05 = '/Users/james.male/Dissertation/Wpath.05.txt'\n",
    "\n",
    "B_path_05 = add_zero(np.loadtxt(B_path_loc_05))\n",
    "BH_path_05 = add_zero(np.loadtxt(BH_path_loc_05))\n",
    "W_path_05 = add_zero(np.loadtxt(W_path_loc_05))\n",
    "\n",
    "window_lengths = [16, 32, 64]\n",
    "\n",
    "for window_length in window_lengths:\n",
    "    test = RFSV_model(0.1, 1, 1, -0.65, 0.05, 1, B_path_05, BH_path_05, W_path_05, window_length)\n",
    "\n",
    "    est_H, MLE_H, realised_H = test.run_H_estimation()\n",
    "    print(est_H, MLE_H, realised_H)\n"
   ]
  },
  {
   "cell_type": "code",
   "execution_count": 49,
   "metadata": {},
   "outputs": [
    {
     "name": "stdout",
     "output_type": "stream",
     "text": [
      "0.08161212656954556 0.07333134782135589 0.10233969211163327\n",
      "0.1362344310480667 0.1265882996661343 0.10233969211163327\n",
      "0.18482698451822696 0.18267197190094955 0.10233969211163327\n"
     ]
    }
   ],
   "source": [
    "# B_path_loc_05 = '/Users/james.male/Dissertation/Bpath.10.txt'\n",
    "# BH_path_loc_05 = '/Users/james.male/Dissertation/BHpath.10.txt'\n",
    "# W_path_loc_05 = '/Users/james.male/Dissertation/Wpath.10.txt'\n",
    "\n",
    "B_path_loc_10 = 'C:\\\\Users\\\\jamma\\\\Masters\\\\Dissertation\\\\Bpath.10.txt'\n",
    "BH_path_loc_10 = 'C:\\\\Users\\\\jamma\\\\Masters\\\\Dissertation\\\\BHpath.10.txt'\n",
    "W_path_loc_10 = 'C:\\\\Users\\\\jamma\\\\Masters\\\\Dissertation\\\\Wpath.10.txt'\n",
    "\n",
    "B_path_10 = add_zero(np.loadtxt(B_path_loc_10))\n",
    "BH_path_10 = add_zero(np.loadtxt(BH_path_loc_10))\n",
    "W_path_10 = add_zero(np.loadtxt(W_path_loc_10))\n",
    "\n",
    "window_lengths = [16, 32, 64]\n",
    "\n",
    "for window in window_lengths:\n",
    "    test = RFSV_model(0.1, 1, 1, -0.65, 0.1, 1, B_path_10, BH_path_10, W_path_10, window)\n",
    "\n",
    "    est_H, MLE_H, realised_H = test.run_H_estimation()\n",
    "    print(est_H, MLE_H, realised_H)\n"
   ]
  },
  {
   "cell_type": "markdown",
   "metadata": {},
   "source": [
    "## 2.2 H = 0.5, 100 paths"
   ]
  },
  {
   "cell_type": "code",
   "execution_count": 50,
   "metadata": {},
   "outputs": [
    {
     "name": "stdout",
     "output_type": "stream",
     "text": [
      "5%\n",
      "10%\n",
      "15%\n",
      "20%\n",
      "25%\n",
      "30%\n",
      "35%\n",
      "40%\n",
      "45%\n",
      "50%\n",
      "55%\n",
      "60%\n",
      "65%\n",
      "70%\n",
      "75%\n",
      "80%\n",
      "85%\n",
      "90%\n",
      "95%\n",
      "100%\n"
     ]
    }
   ],
   "source": [
    "n_sims = 100\n",
    "n_steps = 2 ** 16\n",
    "\n",
    "simulated_H = np.zeros(n_sims)\n",
    "sim_realised_H = np.zeros(n_sims)\n",
    "\n",
    "S0 = 1\n",
    "v = 1\n",
    "rho = -0.65\n",
    "V0 = 0.1\n",
    "window_length = 512\n",
    "\n",
    "rng = np.random.default_rng(seed = 1729)\n",
    "B_paths = simulate_bm_fbm(n_sims, n_steps, 1, 0.5, rng)[0]\n",
    "rng = np.random.default_rng(seed = 42)\n",
    "W_paths = simulate_bm_fbm(n_sims, n_steps, 1, 0.5, rng)[0]\n",
    "\n",
    "for i in range(n_sims):\n",
    "    if (i + 1) % 5 == 0:\n",
    "        print(f\"{(i + 1) / 100:.0%}\")\n",
    "    model = RFSV_model(V0, v, S0, rho, 0.5, 1, B_paths[i, :], B_paths[i, :], W_paths[i, :], window_length)\n",
    "    est_H, MLE_H, realised_H = model.run_H_estimation()\n",
    "\n",
    "    simulated_H[i] = est_H\n",
    "    sim_realised_H[i] = realised_H\n"
   ]
  },
  {
   "cell_type": "code",
   "execution_count": 53,
   "metadata": {},
   "outputs": [
    {
     "data": {
      "text/plain": [
       "(array([ 1.,  1.,  1., 10.,  5., 14., 25., 20., 14.,  9.]),\n",
       " array([0.34623543, 0.35909866, 0.3719619 , 0.38482513, 0.39768836,\n",
       "        0.4105516 , 0.42341483, 0.43627806, 0.4491413 , 0.46200453,\n",
       "        0.47486776]),\n",
       " <BarContainer object of 10 artists>)"
      ]
     },
     "execution_count": 53,
     "metadata": {},
     "output_type": "execute_result"
    },
    {
     "data": {
      "image/png": "[encoded data removed]",
      "text/plain": [
       "<Figure size 432x288 with 1 Axes>"
      ]
     },
     "metadata": {
      "needs_background": "light"
     },
     "output_type": "display_data"
    }
   ],
   "source": [
    "plt.hist(simulated_H)"
   ]
  },
  {
   "cell_type": "code",
   "execution_count": 57,
   "metadata": {},
   "outputs": [
    {
     "name": "stdout",
     "output_type": "stream",
     "text": [
      "0.379997370113491\n",
      "0.47357383450053664\n",
      "0.4314083614348307\n",
      "0.00021983072330728813\n"
     ]
    }
   ],
   "source": [
    "print(np.percentile(simulated_H, 2.5))\n",
    "print(np.percentile(simulated_H, 97.5))\n",
    "\n",
    "print(np.mean(simulated_H))\n",
    "print(np.std(sim_realised_H))"
   ]
  },
  {
   "cell_type": "markdown",
   "metadata": {},
   "source": [
    "## 2.3 Monte Carlo Pricing"
   ]
  },
  {
   "cell_type": "code",
   "execution_count": null,
   "metadata": {},
   "outputs": [
    {
     "name": "stdout",
     "output_type": "stream",
     "text": [
      "Beginning Simulation\n",
      "Covariance Done\n",
      "Simulation done\n",
      "5%\n",
      "10%\n",
      "15%\n",
      "20%\n",
      "25%\n",
      "30%\n",
      "35%\n",
      "40%\n",
      "45%\n",
      "50%\n",
      "55%\n",
      "60%\n",
      "65%\n",
      "70%\n",
      "75%\n",
      "80%\n",
      "85%\n",
      "90%\n",
      "95%\n",
      "100%\n"
     ]
    }
   ],
   "source": [
    "n_sims = 10000\n",
    "n_steps = 2 ** 14 #consistent with simulated sample paths\n",
    "\n",
    "S0 = 1\n",
    "v = 1\n",
    "rho = -0.65\n",
    "V0 = 0.04\n",
    "H = 0.1\n",
    "dummy_window_length = 512\n",
    "\n",
    "log_moneyness = np.arange(-0.5, 0.55, 0.05)\n",
    "call_prices = np.zeros(log_moneyness.shape)\n",
    "IVs = np.zeros(log_moneyness.shape)\n",
    "\n",
    "rng = np.random.default_rng(seed = 1729)\n",
    "B_sim, BH_sim = simulate_bm_fbm(int(n_sims / 2), n_steps, 1, H, rng)\n",
    "rng = np.random.default_rng(seed = 42)\n",
    "W_sim = simulate_bm_fbm(int(n_sims / 2), n_steps, 1, 0.5, rng)[0]\n",
    "print('Simulation done')\n",
    "\n",
    "B_paths = np.vstack((B_sim, -B_sim))\n",
    "BH_paths = np.vstack((BH_sim, -BH_sim))\n",
    "W_paths = np.vstack((W_sim, -W_sim))\n",
    "S1_paths = np.zeros([n_sims, 1])\n",
    "\n",
    "for i in range(n_sims):\n",
    "    if (i + 1) % 500 == 0:\n",
    "        print(f\"{(i + 1) / n_sims:.0%}\")\n",
    "    model = RFSV_model(V0, v, S0, rho, 0.1, 1, B_paths[i, :], B_paths[i, :], W_paths[i, :], dummy_window_length)\n",
    "    model.simulate_RFSV()\n",
    "    S1_paths[i] = model.S_path[-1]\n",
    "\n",
    "\n"
   ]
  },
  {
   "cell_type": "code",
   "execution_count": null,
   "metadata": {},
   "outputs": [
    {
     "data": {
      "text/plain": [
       "array([0.2874673 , 0.28102799, 0.27384772, 0.26619736, 0.25863975,\n",
       "       0.25122686, 0.24327178, 0.23483466, 0.22629631, 0.21801037,\n",
       "       0.21031933, 0.20278444, 0.19559277, 0.1892253 , 0.18428023,\n",
       "       0.18004293, 0.17675337, 0.17459989, 0.17364361, 0.17315925,\n",
       "       0.17436045])"
      ]
     },
     "execution_count": 25,
     "metadata": {},
     "output_type": "execute_result"
    }
   ],
   "source": [
    "for i, v in enumerate(log_moneyness):\n",
    "    strike = S0 * np.exp(v)\n",
    "    call_prices[i] = np.average(np.maximum(S1_paths - strike, 0))\n",
    "    IVs[i] = get_IV_from_price(S0, 0, strike, 1, 0, call_prices[i])\n",
    "\n",
    "IVs"
   ]
  },
  {
   "cell_type": "code",
   "execution_count": null,
   "metadata": {},
   "outputs": [
    {
     "data": {
      "text/plain": [
       "[<matplotlib.lines.Line2D at 0x1de020d8700>]"
      ]
     },
     "execution_count": 26,
     "metadata": {},
     "output_type": "execute_result"
    },
    {
     "data": {
      "image/png": "[encoded data removed]",
      "text/plain": [
       "<Figure size 432x288 with 1 Axes>"
      ]
     },
     "metadata": {
      "needs_background": "light"
     },
     "output_type": "display_data"
    }
   ],
   "source": [
    "plt.plot(log_moneyness, IVs)"
   ]
  },
  {
   "cell_type": "markdown",
   "metadata": {},
   "source": [
    "# 3. Further Estimation"
   ]
  },
  {
   "cell_type": "code",
   "execution_count": 20,
   "metadata": {},
   "outputs": [],
   "source": [
    "SPX_path = \"C:\\\\Users\\\\jamma\\\\Masters\\\\Dissertation\\\\SPX3yrDailyRealizedVariance1minBins.txt\""
   ]
  },
  {
   "cell_type": "code",
   "execution_count": 21,
   "metadata": {},
   "outputs": [
    {
     "data": {
      "text/html": [
       "<div>\n",
       "<style scoped>\n",
       "    .dataframe tbody tr th:only-of-type {\n",
       "        vertical-align: middle;\n",
       "    }\n",
       "\n",
       "    .dataframe tbody tr th {\n",
       "        vertical-align: top;\n",
       "    }\n",
       "\n",
       "    .dataframe thead th {\n",
       "        text-align: right;\n",
       "    }\n",
       "</style>\n",
       "<table border=\"1\" class=\"dataframe\">\n",
       "  <thead>\n",
       "    <tr style=\"text-align: right;\">\n",
       "      <th></th>\n",
       "      <th>0</th>\n",
       "    </tr>\n",
       "  </thead>\n",
       "  <tbody>\n",
       "    <tr>\n",
       "      <th>count</th>\n",
       "      <td>792.000000</td>\n",
       "    </tr>\n",
       "    <tr>\n",
       "      <th>mean</th>\n",
       "      <td>0.045429</td>\n",
       "    </tr>\n",
       "    <tr>\n",
       "      <th>std</th>\n",
       "      <td>0.119987</td>\n",
       "    </tr>\n",
       "    <tr>\n",
       "      <th>min</th>\n",
       "      <td>0.001346</td>\n",
       "    </tr>\n",
       "    <tr>\n",
       "      <th>25%</th>\n",
       "      <td>0.008999</td>\n",
       "    </tr>\n",
       "    <tr>\n",
       "      <th>50%</th>\n",
       "      <td>0.019922</td>\n",
       "    </tr>\n",
       "    <tr>\n",
       "      <th>75%</th>\n",
       "      <td>0.040742</td>\n",
       "    </tr>\n",
       "    <tr>\n",
       "      <th>max</th>\n",
       "      <td>2.102486</td>\n",
       "    </tr>\n",
       "  </tbody>\n",
       "</table>\n",
       "</div>"
      ],
      "text/plain": [
       "                0\n",
       "count  792.000000\n",
       "mean     0.045429\n",
       "std      0.119987\n",
       "min      0.001346\n",
       "25%      0.008999\n",
       "50%      0.019922\n",
       "75%      0.040742\n",
       "max      2.102486"
      ]
     },
     "execution_count": 21,
     "metadata": {},
     "output_type": "execute_result"
    }
   ],
   "source": [
    "SPX_path = np.loadtxt(SPX_path)\n",
    "df_describe = pd.DataFrame(SPX_path)\n",
    "df_describe.describe()"
   ]
  },
  {
   "cell_type": "code",
   "execution_count": 22,
   "metadata": {},
   "outputs": [
    {
     "data": {
      "text/plain": [
       "[<matplotlib.lines.Line2D at 0x2e180101480>]"
      ]
     },
     "execution_count": 22,
     "metadata": {},
     "output_type": "execute_result"
    },
    {
     "data": {
      "image/png": "[encoded data removed]",
      "text/plain": [
       "<Figure size 432x288 with 1 Axes>"
      ]
     },
     "metadata": {
      "needs_background": "light"
     },
     "output_type": "display_data"
    }
   ],
   "source": [
    "plt.plot(SPX_path)"
   ]
  },
  {
   "cell_type": "code",
   "execution_count": 94,
   "metadata": {},
   "outputs": [],
   "source": [
    "def make_SPX_graphs(SPX_data, V0_input = None):\n",
    "\n",
    "    if V0_input is None:\n",
    "        V0_input = np.exp(np.mean(np.log(SPX_data)))\n",
    "\n",
    "    SPX_adjusted = add_zero(np.log(SPX_data / V0_input ))\n",
    "    plt.plot(SPX_adjusted)\n",
    "\n",
    "    H_hat_SPX, sigma_hat_SPX = max_MLE(SPX_adjusted, SPX_adjusted.shape[0])\n",
    "    span = np.linspace(0, SPX_adjusted.shape[0], SPX_adjusted.shape[0])\n",
    "    out = simulate_bm_fbm(1, SPX_adjusted.shape[0] - 1, SPX_adjusted.shape[0] - 1, H_hat_SPX)[1]\n",
    "\n",
    "    plt.figure(1)\n",
    "    plt.subplot(211)\n",
    "    plt.plot(span, V0_input * np.exp(SPX_adjusted))\n",
    "    plt.subplot(212)\n",
    "    plt.plot(span, V0_input * np.exp(out.T * sigma_hat_SPX))\n",
    "    plt.show()\n",
    "\n",
    "    return H_hat_SPX, sigma_hat_SPX, V0_input\n",
    "\n"
   ]
  },
  {
   "cell_type": "code",
   "execution_count": 95,
   "metadata": {},
   "outputs": [
    {
     "name": "stdout",
     "output_type": "stream",
     "text": [
      "Beginning Simulation\n",
      "Covariance Done\n"
     ]
    },
    {
     "data": {
      "image/png": "[encoded data removed]",
      "text/plain": [
       "<Figure size 432x288 with 2 Axes>"
      ]
     },
     "metadata": {
      "needs_background": "light"
     },
     "output_type": "display_data"
    },
    {
     "name": "stdout",
     "output_type": "stream",
     "text": [
      "Beginning Simulation\n",
      "Covariance Done\n"
     ]
    },
    {
     "data": {
      "image/png": "[encoded data removed]",
      "text/plain": [
       "<Figure size 432x288 with 2 Axes>"
      ]
     },
     "metadata": {
      "needs_background": "light"
     },
     "output_type": "display_data"
    },
    {
     "data": {
      "text/plain": [
       "(0.1442523953523754, 0.6139235928405116, 0.1)"
      ]
     },
     "execution_count": 95,
     "metadata": {},
     "output_type": "execute_result"
    }
   ],
   "source": [
    "#Approach 1 - assume V0 is as given in model\n",
    "\n",
    "V0_given = 0.1\n",
    "\n",
    "make_SPX_graphs(SPX_path, V0_given)\n",
    "\n",
    "make_SPX_graphs(SPX_path[-251:], V0_given)\n"
   ]
  },
  {
   "cell_type": "code",
   "execution_count": 96,
   "metadata": {},
   "outputs": [
    {
     "name": "stdout",
     "output_type": "stream",
     "text": [
      "Beginning Simulation\n",
      "Covariance Done\n"
     ]
    },
    {
     "data": {
      "image/png": "[encoded data removed]",
      "text/plain": [
       "<Figure size 432x288 with 2 Axes>"
      ]
     },
     "metadata": {
      "needs_background": "light"
     },
     "output_type": "display_data"
    },
    {
     "data": {
      "text/plain": [
       "(0.20977460563310385, 0.7058602290641386, 0.019846059147198503)"
      ]
     },
     "execution_count": 96,
     "metadata": {},
     "output_type": "execute_result"
    }
   ],
   "source": [
    "make_SPX_graphs(SPX_path)\n",
    "\n"
   ]
  },
  {
   "cell_type": "code",
   "execution_count": 97,
   "metadata": {},
   "outputs": [
    {
     "name": "stdout",
     "output_type": "stream",
     "text": [
      "Beginning Simulation\n",
      "Covariance Done\n"
     ]
    },
    {
     "data": {
      "image/png": "[encoded data removed]",
      "text/plain": [
       "<Figure size 432x288 with 2 Axes>"
      ]
     },
     "metadata": {
      "needs_background": "light"
     },
     "output_type": "display_data"
    },
    {
     "data": {
      "text/plain": [
       "(0.13656997792608522, 0.6189351390836011, 0.03097090518708841)"
      ]
     },
     "execution_count": 97,
     "metadata": {},
     "output_type": "execute_result"
    }
   ],
   "source": [
    "make_SPX_graphs(SPX_path[-251:])"
   ]
  },
  {
   "cell_type": "code",
   "execution_count": null,
   "metadata": {},
   "outputs": [],
   "source": []
  }
 ],
 "metadata": {
  "kernelspec": {
   "display_name": "Random_Stuff",
   "language": "python",
   "name": "python3"
  },
  "language_info": {
   "codemirror_mode": {
    "name": "ipython",
    "version": 3
   },
   "file_extension": ".py",
   "mimetype": "text/x-python",
   "name": "python",
   "nbconvert_exporter": "python",
   "pygments_lexer": "ipython3",
   "version": "3.10.4"
  }
 },
 "nbformat": 4,
 "nbformat_minor": 2
}
